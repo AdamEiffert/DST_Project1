{
 "cells": [
  {
   "cell_type": "code",
   "execution_count": 1,
   "id": "341cdae7-56aa-4c34-9eb4-903d19fe0ded",
   "metadata": {},
   "outputs": [],
   "source": [
    "import math\n",
    "import numpy\n",
    "from scipy import stats\n",
    "from sklearn import metrics"
   ]
  },
  {
   "cell_type": "markdown",
   "id": "c168ea41-4ab1-49e0-83f2-77bd1773f947",
   "metadata": {},
   "source": [
    "Defines a function which computes the variation of information between two classifications.\n",
    "\n",
    "Intended to be used to compare a model's classification to the *true* classification.\n",
    "\n",
    "Not the version to be actually used - this is more of a proof-of-concept."
   ]
  },
  {
   "cell_type": "code",
   "execution_count": 2,
   "id": "ab10232a-ab2c-460a-bde0-028e827c0f7e",
   "metadata": {},
   "outputs": [],
   "source": [
    "def entropy(clustering):\n",
    "    alphabet = []\n",
    "    counts = []\n",
    "    letters = 0\n",
    "    for i in clustering:\n",
    "        if i not in alphabet:\n",
    "            alphabet.append(i)\n",
    "            counts.append(1)\n",
    "            letters += 1\n",
    "        else:\n",
    "            counts[alphabet.index(i)] += 1\n",
    "    \n",
    "    n = len(clustering)\n",
    "    \n",
    "    entropy = 0\n",
    "    \n",
    "    for i in range(letters):\n",
    "        p = counts[i] / n\n",
    "        entropy -= p * math.log2(p)\n",
    "        \n",
    "    return entropy\n",
    "\n",
    "def mutual_information(clustering_1, clustering_2):\n",
    "    alphabet_1 = []\n",
    "    alphabet_2 = []\n",
    "    counts_1 = []\n",
    "    counts_2 = []\n",
    "    letters_1 = 0\n",
    "    letters_2 = 0\n",
    "    \n",
    "    for i in clustering_1:\n",
    "        if i not in alphabet_1:\n",
    "            alphabet_1.append(i)\n",
    "            counts_1.append(1)\n",
    "            letters_1 += 1\n",
    "        else:\n",
    "            counts_1[alphabet_1.index(i)] += 1\n",
    "                       \n",
    "    for i in clustering_2:\n",
    "        if i not in alphabet_2:\n",
    "            alphabet_2.append(i)\n",
    "            counts_2.append(1)\n",
    "            letters_2 += 1\n",
    "        else:\n",
    "            counts_2[alphabet_2.index(i)] += 1\n",
    "            \n",
    "    pair_counts = [[0] * letters_2 for i in range(letters_1)]\n",
    "    n = len(clustering_1)\n",
    "\n",
    "    for i in range(n):\n",
    "        pair_counts[alphabet_1.index(clustering_1[i])][alphabet_2.index(clustering_2[i])] += 1\n",
    "            \n",
    "    print(pair_counts)\n",
    "    \n",
    "        \n",
    "    information = 0\n",
    "    \n",
    "    for i in range(letters_1):\n",
    "        for j in range(letters_2):\n",
    "            if pair_counts[i][j] > 0:\n",
    "                p = pair_counts[i][j] / n\n",
    "                p_1 = counts_1[i] / n\n",
    "                p_2 = counts_2[j] / n\n",
    "                information += p * math.log2(p / (p_1*p_2))\n",
    "           \n",
    "    return information\n",
    "\n",
    "def variation_of_information_score_slow(true_class, model_class):\n",
    "    return entropy(true_class) + entropy(model_class) - 2*mutual_information(true_class, model_class)"
   ]
  },
  {
   "cell_type": "markdown",
   "id": "c66316ce-bc74-40bf-a823-be5827217e70",
   "metadata": {},
   "source": [
    "A better version, using library functions instead of rolling my own.\n",
    "\n",
    "Note that this gives the answer in *nats*, where my version gives it in *bits*."
   ]
  },
  {
   "cell_type": "code",
   "execution_count": 3,
   "id": "31244963-f3d9-4a54-ab84-a06c364507d4",
   "metadata": {},
   "outputs": [],
   "source": [
    "def variation_of_information_score(true_class, model_class):\n",
    "    return (stats.entropy(numpy.unique(true_class, return_counts=True)[1]) \n",
    "            + stats.entropy(numpy.unique(model_class, return_counts=True)[1]) \n",
    "            - 2*metrics.mutual_info_score(true_class, model_class))"
   ]
  }
 ],
 "metadata": {
  "kernelspec": {
   "display_name": "Python 3 (ipykernel)",
   "language": "python",
   "name": "python3"
  },
  "language_info": {
   "codemirror_mode": {
    "name": "ipython",
    "version": 3
   },
   "file_extension": ".py",
   "mimetype": "text/x-python",
   "name": "python",
   "nbconvert_exporter": "python",
   "pygments_lexer": "ipython3",
   "version": "3.9.7"
  }
 },
 "nbformat": 4,
 "nbformat_minor": 5
}
