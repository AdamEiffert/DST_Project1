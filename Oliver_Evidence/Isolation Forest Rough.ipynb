{
 "cells": [
  {
   "cell_type": "code",
   "execution_count": 56,
   "id": "099645c8-0d33-4021-969a-be3b8514c87d",
   "metadata": {},
   "outputs": [],
   "source": [
    "from sklearn.ensemble import IsolationForest\n",
    "from sklearn.metrics import precision_recall_curve, PrecisionRecallDisplay, mutual_info_score, matthews_corrcoef, confusion_matrix, precision_score, recall_score\n",
    "import pandas\n",
    "import numpy\n",
    "import eif\n",
    "import math\n",
    "from scipy import stats\n",
    "from random import randint"
   ]
  },
  {
   "cell_type": "code",
   "execution_count": 2,
   "id": "7dd6abf3-ad22-4de9-9ed2-aae2d775b986",
   "metadata": {},
   "outputs": [],
   "source": [
    "def variation_of_information_score(true_class, model_class):\n",
    "    return (stats.entropy(numpy.unique(true_class, return_counts=True)[1]) \n",
    "            + stats.entropy(numpy.unique(model_class, return_counts=True)[1]) \n",
    "            - 2*mutual_info_score(true_class, model_class))\n",
    "\n",
    "def entropy(classification):\n",
    "    return stats.entropy(numpy.unique(classification, return_counts=True)[1])"
   ]
  },
  {
   "cell_type": "code",
   "execution_count": 3,
   "id": "8f429732-41f1-48d9-8f63-c9089fdbf23c",
   "metadata": {},
   "outputs": [
    {
     "data": {
      "text/html": [
       "<div>\n",
       "<style scoped>\n",
       "    .dataframe tbody tr th:only-of-type {\n",
       "        vertical-align: middle;\n",
       "    }\n",
       "\n",
       "    .dataframe tbody tr th {\n",
       "        vertical-align: top;\n",
       "    }\n",
       "\n",
       "    .dataframe thead th {\n",
       "        text-align: right;\n",
       "    }\n",
       "</style>\n",
       "<table border=\"1\" class=\"dataframe\">\n",
       "  <thead>\n",
       "    <tr style=\"text-align: right;\">\n",
       "      <th></th>\n",
       "      <th>duration</th>\n",
       "      <th>src_bytes</th>\n",
       "      <th>dst_bytes</th>\n",
       "      <th>land</th>\n",
       "      <th>wrong_fragment</th>\n",
       "      <th>urgent</th>\n",
       "      <th>hot</th>\n",
       "      <th>num_failed_logins</th>\n",
       "      <th>logged_in</th>\n",
       "      <th>num_compromised</th>\n",
       "      <th>...</th>\n",
       "      <th>flag_is_S2</th>\n",
       "      <th>flag_is_S0</th>\n",
       "      <th>flag_is_S3</th>\n",
       "      <th>flag_is_RSTO</th>\n",
       "      <th>flag_is_RSTR</th>\n",
       "      <th>flag_is_RSTOS0</th>\n",
       "      <th>flag_is_OTH</th>\n",
       "      <th>flag_is_SH</th>\n",
       "      <th>normal</th>\n",
       "      <th>test</th>\n",
       "    </tr>\n",
       "  </thead>\n",
       "  <tbody>\n",
       "    <tr>\n",
       "      <th>0</th>\n",
       "      <td>0</td>\n",
       "      <td>181</td>\n",
       "      <td>5450</td>\n",
       "      <td>0</td>\n",
       "      <td>0</td>\n",
       "      <td>0</td>\n",
       "      <td>0</td>\n",
       "      <td>0</td>\n",
       "      <td>1</td>\n",
       "      <td>0</td>\n",
       "      <td>...</td>\n",
       "      <td>0</td>\n",
       "      <td>0</td>\n",
       "      <td>0</td>\n",
       "      <td>0</td>\n",
       "      <td>0</td>\n",
       "      <td>0</td>\n",
       "      <td>0</td>\n",
       "      <td>0</td>\n",
       "      <td>True</td>\n",
       "      <td>3.0</td>\n",
       "    </tr>\n",
       "    <tr>\n",
       "      <th>1</th>\n",
       "      <td>0</td>\n",
       "      <td>239</td>\n",
       "      <td>486</td>\n",
       "      <td>0</td>\n",
       "      <td>0</td>\n",
       "      <td>0</td>\n",
       "      <td>0</td>\n",
       "      <td>0</td>\n",
       "      <td>1</td>\n",
       "      <td>0</td>\n",
       "      <td>...</td>\n",
       "      <td>0</td>\n",
       "      <td>0</td>\n",
       "      <td>0</td>\n",
       "      <td>0</td>\n",
       "      <td>0</td>\n",
       "      <td>0</td>\n",
       "      <td>0</td>\n",
       "      <td>0</td>\n",
       "      <td>True</td>\n",
       "      <td>3.0</td>\n",
       "    </tr>\n",
       "    <tr>\n",
       "      <th>2</th>\n",
       "      <td>0</td>\n",
       "      <td>235</td>\n",
       "      <td>1337</td>\n",
       "      <td>0</td>\n",
       "      <td>0</td>\n",
       "      <td>0</td>\n",
       "      <td>0</td>\n",
       "      <td>0</td>\n",
       "      <td>1</td>\n",
       "      <td>0</td>\n",
       "      <td>...</td>\n",
       "      <td>0</td>\n",
       "      <td>0</td>\n",
       "      <td>0</td>\n",
       "      <td>0</td>\n",
       "      <td>0</td>\n",
       "      <td>0</td>\n",
       "      <td>0</td>\n",
       "      <td>0</td>\n",
       "      <td>True</td>\n",
       "      <td>4.0</td>\n",
       "    </tr>\n",
       "    <tr>\n",
       "      <th>3</th>\n",
       "      <td>0</td>\n",
       "      <td>219</td>\n",
       "      <td>1337</td>\n",
       "      <td>0</td>\n",
       "      <td>0</td>\n",
       "      <td>0</td>\n",
       "      <td>0</td>\n",
       "      <td>0</td>\n",
       "      <td>1</td>\n",
       "      <td>0</td>\n",
       "      <td>...</td>\n",
       "      <td>0</td>\n",
       "      <td>0</td>\n",
       "      <td>0</td>\n",
       "      <td>0</td>\n",
       "      <td>0</td>\n",
       "      <td>0</td>\n",
       "      <td>0</td>\n",
       "      <td>0</td>\n",
       "      <td>True</td>\n",
       "      <td>2.0</td>\n",
       "    </tr>\n",
       "    <tr>\n",
       "      <th>4</th>\n",
       "      <td>0</td>\n",
       "      <td>217</td>\n",
       "      <td>2032</td>\n",
       "      <td>0</td>\n",
       "      <td>0</td>\n",
       "      <td>0</td>\n",
       "      <td>0</td>\n",
       "      <td>0</td>\n",
       "      <td>1</td>\n",
       "      <td>0</td>\n",
       "      <td>...</td>\n",
       "      <td>0</td>\n",
       "      <td>0</td>\n",
       "      <td>0</td>\n",
       "      <td>0</td>\n",
       "      <td>0</td>\n",
       "      <td>0</td>\n",
       "      <td>0</td>\n",
       "      <td>0</td>\n",
       "      <td>True</td>\n",
       "      <td>1.0</td>\n",
       "    </tr>\n",
       "    <tr>\n",
       "      <th>...</th>\n",
       "      <td>...</td>\n",
       "      <td>...</td>\n",
       "      <td>...</td>\n",
       "      <td>...</td>\n",
       "      <td>...</td>\n",
       "      <td>...</td>\n",
       "      <td>...</td>\n",
       "      <td>...</td>\n",
       "      <td>...</td>\n",
       "      <td>...</td>\n",
       "      <td>...</td>\n",
       "      <td>...</td>\n",
       "      <td>...</td>\n",
       "      <td>...</td>\n",
       "      <td>...</td>\n",
       "      <td>...</td>\n",
       "      <td>...</td>\n",
       "      <td>...</td>\n",
       "      <td>...</td>\n",
       "      <td>...</td>\n",
       "      <td>...</td>\n",
       "    </tr>\n",
       "    <tr>\n",
       "      <th>494016</th>\n",
       "      <td>0</td>\n",
       "      <td>310</td>\n",
       "      <td>1881</td>\n",
       "      <td>0</td>\n",
       "      <td>0</td>\n",
       "      <td>0</td>\n",
       "      <td>0</td>\n",
       "      <td>0</td>\n",
       "      <td>1</td>\n",
       "      <td>0</td>\n",
       "      <td>...</td>\n",
       "      <td>0</td>\n",
       "      <td>0</td>\n",
       "      <td>0</td>\n",
       "      <td>0</td>\n",
       "      <td>0</td>\n",
       "      <td>0</td>\n",
       "      <td>0</td>\n",
       "      <td>0</td>\n",
       "      <td>True</td>\n",
       "      <td>2.0</td>\n",
       "    </tr>\n",
       "    <tr>\n",
       "      <th>494017</th>\n",
       "      <td>0</td>\n",
       "      <td>282</td>\n",
       "      <td>2286</td>\n",
       "      <td>0</td>\n",
       "      <td>0</td>\n",
       "      <td>0</td>\n",
       "      <td>0</td>\n",
       "      <td>0</td>\n",
       "      <td>1</td>\n",
       "      <td>0</td>\n",
       "      <td>...</td>\n",
       "      <td>0</td>\n",
       "      <td>0</td>\n",
       "      <td>0</td>\n",
       "      <td>0</td>\n",
       "      <td>0</td>\n",
       "      <td>0</td>\n",
       "      <td>0</td>\n",
       "      <td>0</td>\n",
       "      <td>True</td>\n",
       "      <td>1.0</td>\n",
       "    </tr>\n",
       "    <tr>\n",
       "      <th>494018</th>\n",
       "      <td>0</td>\n",
       "      <td>203</td>\n",
       "      <td>1200</td>\n",
       "      <td>0</td>\n",
       "      <td>0</td>\n",
       "      <td>0</td>\n",
       "      <td>0</td>\n",
       "      <td>0</td>\n",
       "      <td>1</td>\n",
       "      <td>0</td>\n",
       "      <td>...</td>\n",
       "      <td>0</td>\n",
       "      <td>0</td>\n",
       "      <td>0</td>\n",
       "      <td>0</td>\n",
       "      <td>0</td>\n",
       "      <td>0</td>\n",
       "      <td>0</td>\n",
       "      <td>0</td>\n",
       "      <td>True</td>\n",
       "      <td>2.0</td>\n",
       "    </tr>\n",
       "    <tr>\n",
       "      <th>494019</th>\n",
       "      <td>0</td>\n",
       "      <td>291</td>\n",
       "      <td>1200</td>\n",
       "      <td>0</td>\n",
       "      <td>0</td>\n",
       "      <td>0</td>\n",
       "      <td>0</td>\n",
       "      <td>0</td>\n",
       "      <td>1</td>\n",
       "      <td>0</td>\n",
       "      <td>...</td>\n",
       "      <td>0</td>\n",
       "      <td>0</td>\n",
       "      <td>0</td>\n",
       "      <td>0</td>\n",
       "      <td>0</td>\n",
       "      <td>0</td>\n",
       "      <td>0</td>\n",
       "      <td>0</td>\n",
       "      <td>True</td>\n",
       "      <td>3.0</td>\n",
       "    </tr>\n",
       "    <tr>\n",
       "      <th>494020</th>\n",
       "      <td>0</td>\n",
       "      <td>219</td>\n",
       "      <td>1234</td>\n",
       "      <td>0</td>\n",
       "      <td>0</td>\n",
       "      <td>0</td>\n",
       "      <td>0</td>\n",
       "      <td>0</td>\n",
       "      <td>1</td>\n",
       "      <td>0</td>\n",
       "      <td>...</td>\n",
       "      <td>0</td>\n",
       "      <td>0</td>\n",
       "      <td>0</td>\n",
       "      <td>0</td>\n",
       "      <td>0</td>\n",
       "      <td>0</td>\n",
       "      <td>0</td>\n",
       "      <td>0</td>\n",
       "      <td>True</td>\n",
       "      <td>3.0</td>\n",
       "    </tr>\n",
       "  </tbody>\n",
       "</table>\n",
       "<p>494021 rows × 120 columns</p>\n",
       "</div>"
      ],
      "text/plain": [
       "        duration  src_bytes  dst_bytes  land  wrong_fragment  urgent  hot  \\\n",
       "0              0        181       5450     0               0       0    0   \n",
       "1              0        239        486     0               0       0    0   \n",
       "2              0        235       1337     0               0       0    0   \n",
       "3              0        219       1337     0               0       0    0   \n",
       "4              0        217       2032     0               0       0    0   \n",
       "...          ...        ...        ...   ...             ...     ...  ...   \n",
       "494016         0        310       1881     0               0       0    0   \n",
       "494017         0        282       2286     0               0       0    0   \n",
       "494018         0        203       1200     0               0       0    0   \n",
       "494019         0        291       1200     0               0       0    0   \n",
       "494020         0        219       1234     0               0       0    0   \n",
       "\n",
       "        num_failed_logins  logged_in  num_compromised  ...  flag_is_S2  \\\n",
       "0                       0          1                0  ...           0   \n",
       "1                       0          1                0  ...           0   \n",
       "2                       0          1                0  ...           0   \n",
       "3                       0          1                0  ...           0   \n",
       "4                       0          1                0  ...           0   \n",
       "...                   ...        ...              ...  ...         ...   \n",
       "494016                  0          1                0  ...           0   \n",
       "494017                  0          1                0  ...           0   \n",
       "494018                  0          1                0  ...           0   \n",
       "494019                  0          1                0  ...           0   \n",
       "494020                  0          1                0  ...           0   \n",
       "\n",
       "        flag_is_S0  flag_is_S3  flag_is_RSTO  flag_is_RSTR  flag_is_RSTOS0  \\\n",
       "0                0           0             0             0               0   \n",
       "1                0           0             0             0               0   \n",
       "2                0           0             0             0               0   \n",
       "3                0           0             0             0               0   \n",
       "4                0           0             0             0               0   \n",
       "...            ...         ...           ...           ...             ...   \n",
       "494016           0           0             0             0               0   \n",
       "494017           0           0             0             0               0   \n",
       "494018           0           0             0             0               0   \n",
       "494019           0           0             0             0               0   \n",
       "494020           0           0             0             0               0   \n",
       "\n",
       "        flag_is_OTH  flag_is_SH  normal  test  \n",
       "0                 0           0    True   3.0  \n",
       "1                 0           0    True   3.0  \n",
       "2                 0           0    True   4.0  \n",
       "3                 0           0    True   2.0  \n",
       "4                 0           0    True   1.0  \n",
       "...             ...         ...     ...   ...  \n",
       "494016            0           0    True   2.0  \n",
       "494017            0           0    True   1.0  \n",
       "494018            0           0    True   2.0  \n",
       "494019            0           0    True   3.0  \n",
       "494020            0           0    True   3.0  \n",
       "\n",
       "[494021 rows x 120 columns]"
      ]
     },
     "execution_count": 3,
     "metadata": {},
     "output_type": "execute_result"
    }
   ],
   "source": [
    "data = pandas.read_csv('test_train.csv').drop(columns = ['Unnamed: 0'])\n",
    "data"
   ]
  },
  {
   "cell_type": "code",
   "execution_count": 4,
   "id": "738654fa-60d3-413d-83f0-f5af12c4fb77",
   "metadata": {},
   "outputs": [],
   "source": [
    "train = numpy.array(data[data[\"test\"] != 1].drop(columns = [\"test\", \"normal\"]))\n",
    "test = numpy.array(data[data[\"test\"] == 1].drop(columns = [\"test\", \"normal\"]))"
   ]
  },
  {
   "cell_type": "code",
   "execution_count": 5,
   "id": "29050d2e-0c42-4c3c-ae09-239b4cf141b7",
   "metadata": {},
   "outputs": [
    {
     "name": "stderr",
     "output_type": "stream",
     "text": [
      "[Parallel(n_jobs=1)]: Using backend SequentialBackend with 1 concurrent workers.\n",
      "[Parallel(n_jobs=1)]: Done   1 out of   1 | elapsed:    4.8s finished\n"
     ]
    }
   ],
   "source": [
    "model = IsolationForest(verbose=1)\n",
    "model.fit(train)\n",
    "model_class = model.predict(test)"
   ]
  },
  {
   "cell_type": "code",
   "execution_count": 6,
   "id": "2cb6c0c1-1ac5-438a-a603-4eae61778fc9",
   "metadata": {},
   "outputs": [],
   "source": [
    "true_class = 2*numpy.array(data[data[\"test\"] == 1].iloc[:, -2]) - 1\n",
    "rand_class = numpy.array([randint(0, 1) for i in range(len(model_class))])"
   ]
  },
  {
   "cell_type": "code",
   "execution_count": 7,
   "id": "1bb17359-0b23-498b-98b9-2bdc083494be",
   "metadata": {},
   "outputs": [
    {
     "data": {
      "text/plain": [
       "<sklearn.metrics._plot.precision_recall_curve.PrecisionRecallDisplay at 0x2364d4aa700>"
      ]
     },
     "execution_count": 7,
     "metadata": {},
     "output_type": "execute_result"
    },
    {
     "data": {
      "image/png": "[encoded data removed]",
      "text/plain": [
       "<Figure size 432x288 with 1 Axes>"
      ]
     },
     "metadata": {
      "needs_background": "light"
     },
     "output_type": "display_data"
    }
   ],
   "source": [
    "precision, recall, _ = precision_recall_curve(true_class, model.decision_function(test))\n",
    "curve = PrecisionRecallDisplay(precision=precision, recall=recall)\n",
    "curve.plot()"
   ]
  },
  {
   "cell_type": "code",
   "execution_count": 8,
   "id": "e6bf911a-347c-4e50-8576-ec8fc3d8d33f",
   "metadata": {},
   "outputs": [
    {
     "data": {
      "text/plain": [
       "0.9206344699539768"
      ]
     },
     "execution_count": 8,
     "metadata": {},
     "output_type": "execute_result"
    }
   ],
   "source": [
    "mcc = matthews_corrcoef(true_class, model_class)\n",
    "mcc"
   ]
  },
  {
   "cell_type": "code",
   "execution_count": 9,
   "id": "6d673983-e0f2-4e16-b49b-2f6c5284cb14",
   "metadata": {},
   "outputs": [
    {
     "data": {
      "text/plain": [
       "0.0871130927576057"
      ]
     },
     "execution_count": 9,
     "metadata": {},
     "output_type": "execute_result"
    }
   ],
   "source": [
    "voi = variation_of_information_score(true_class, model_class)\n",
    "voi"
   ]
  },
  {
   "cell_type": "code",
   "execution_count": 67,
   "id": "a6710bfc-ae96-423e-80df-967b801ed401",
   "metadata": {},
   "outputs": [],
   "source": [
    "model2 = eif.iForest(train, ntrees=100, sample_size=256, ExtensionLevel=10)"
   ]
  },
  {
   "cell_type": "code",
   "execution_count": 68,
   "id": "295f80d2-cd1d-44fe-9da5-0b32367dc222",
   "metadata": {},
   "outputs": [],
   "source": [
    "model2_scores = model2.compute_paths(X_in=test)"
   ]
  },
  {
   "cell_type": "code",
   "execution_count": 69,
   "id": "f0530bb7-84bd-499f-979f-c6a14787262d",
   "metadata": {},
   "outputs": [],
   "source": [
    "model2_class = 2*(model2_scores < 0.5) - 1"
   ]
  },
  {
   "cell_type": "code",
   "execution_count": 70,
   "id": "301b3134-255e-42bd-9f8f-6536dc5b385e",
   "metadata": {},
   "outputs": [
    {
     "data": {
      "text/plain": [
       "<sklearn.metrics._plot.precision_recall_curve.PrecisionRecallDisplay at 0x2361df26910>"
      ]
     },
     "execution_count": 70,
     "metadata": {},
     "output_type": "execute_result"
    },
    {
     "data": {
      "image/png": "[encoded data removed]",
      "text/plain": [
       "<Figure size 432x288 with 1 Axes>"
      ]
     },
     "metadata": {
      "needs_background": "light"
     },
     "output_type": "display_data"
    }
   ],
   "source": [
    "precision2, recall2, _ = precision_recall_curve(true_class, -model2_scores)\n",
    "curve2 = PrecisionRecallDisplay(precision=precision2, recall=recall2)\n",
    "curve2.plot()"
   ]
  },
  {
   "cell_type": "code",
   "execution_count": null,
   "id": "67a5458a-1423-4150-9c99-3f7c2782f88e",
   "metadata": {},
   "outputs": [],
   "source": []
  }
 ],
 "metadata": {
  "kernelspec": {
   "display_name": "Python 3 (ipykernel)",
   "language": "python",
   "name": "python3"
  },
  "language_info": {
   "codemirror_mode": {
    "name": "ipython",
    "version": 3
   },
   "file_extension": ".py",
   "mimetype": "text/x-python",
   "name": "python",
   "nbconvert_exporter": "python",
   "pygments_lexer": "ipython3",
   "version": "3.9.7"
  }
 },
 "nbformat": 4,
 "nbformat_minor": 5
}
