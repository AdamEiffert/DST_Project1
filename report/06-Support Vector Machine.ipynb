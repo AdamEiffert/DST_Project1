{
 "cells": [
  {
   "cell_type": "markdown",
   "id": "5a81c5f4",
   "metadata": {},
   "source": [
    "# Support Vector Machines"
   ]
  },
  {
   "cell_type": "code",
   "execution_count": 13,
   "id": "82c04bbd",
   "metadata": {},
   "outputs": [],
   "source": [
    "import pandas as pd\n",
    "from sklearn import svm\n",
    "import sklearn.model_selection\n",
    "from sklearn.model_selection import KFold\n",
    "from sklearn.preprocessing import scale\n",
    "from statistics import mean\n",
    "import numpy\n",
    "from scipy import stats\n",
    "from sklearn import metrics\n",
    "from sklearn.metrics import precision_recall_curve, PrecisionRecallDisplay, mutual_info_score, matthews_corrcoef"
   ]
  },
  {
   "cell_type": "markdown",
   "id": "f7389573",
   "metadata": {},
   "source": [
    "## Understanding Support Vector Machines\n",
    "Support vector machines use the theoretical upperbound of the generalisation error to create a hyperplane between the 2 classifications. The most important properties for generalisation error are:\n",
    "* The upper bound is minimised by maximising the margin or the minimal distance between the hyperplane of the two classes and closest datapoints in each category to that hyperplane.\n",
    "* The bound does not depend on dimensionality of the space.\n",
    "\n",
    "Generally SVMs are considered very robust and work very well on an intuitive level. However, there are times when the datapoints are not linearly seperable and as such, a kernal trick is reuqired to separate the data into a space that allows for linear separation. The hyperplanes are defined by the set of points whose dot product with one of a set of vetors is a constant. Here the set of vectors are chosen as orthogonal to minimise the size of the set. \n",
    "\n",
    "An extension of Support Vector Machines is Support Vector Clustering (SVC), which uses similar kernel functions but with the goal of finding the smallest sphere that encompasses the selected data, which is then used as the cluster boundry. This is what we will be using here. "
   ]
  },
  {
   "cell_type": "code",
   "execution_count": 3,
   "id": "a5c3c501",
   "metadata": {},
   "outputs": [],
   "source": [
    "df = pd.read_csv('../data/processed/test_train.csv').drop(columns = ['Unnamed: 0'])"
   ]
  },
  {
   "cell_type": "markdown",
   "id": "4c809fb9",
   "metadata": {},
   "source": [
    "## Training the models\n",
    "The main structure of our testing and training is the separation of the data into 4 categories, one for each attack type and then the normal data randomly distributed between the 4. For each of these test-train sets we do a 10-fold model selection on the training data. This is done to provide us a higher likelihood to return a good model for this category. We then choose the model that provides the highest score when compared with the actual data. We then choose this model to represent the catagory. This is repeated for each of the 4 categories. After this, each of the 4 selected models are put forward for a final selection process to see which model does best on average across the 4 test datasets. This model is then selected as the best SVM and is forwarded for final evaluation against the other model types. "
   ]
  },
  {
   "cell_type": "code",
   "execution_count": 4,
   "id": "6b674b9f",
   "metadata": {},
   "outputs": [
    {
     "name": "stdout",
     "output_type": "stream",
     "text": [
      "1\n",
      "round\n",
      "round\n",
      "round\n",
      "round\n",
      "round\n",
      "round\n",
      "round\n",
      "round\n",
      "round\n",
      "round\n",
      "2\n",
      "round\n",
      "round\n",
      "round\n",
      "round\n",
      "round\n",
      "round\n",
      "round\n",
      "round\n",
      "round\n",
      "round\n",
      "3\n",
      "round\n",
      "round\n",
      "round\n",
      "round\n",
      "round\n",
      "round\n",
      "round\n",
      "round\n",
      "round\n",
      "round\n",
      "4\n",
      "round\n",
      "round\n",
      "round\n",
      "round\n",
      "round\n",
      "round\n",
      "round\n",
      "round\n",
      "round\n",
      "round\n",
      "j -  0\n",
      "1\n",
      "[0.11771241405680728]\n",
      "2\n",
      "[0.11771241405680728, 0.9838315324552409]\n",
      "3\n",
      "[0.11771241405680728, 0.9838315324552409, 0.9936425905418154]\n",
      "4\n",
      "[0.11771241405680728, 0.9838315324552409, 0.9936425905418154, 0.990124758390441]\n",
      "j -  1\n",
      "1\n",
      "[0.9979342370745526]\n",
      "2\n",
      "[0.9979342370745526, 0.09559113494755107]\n",
      "3\n",
      "[0.9979342370745526, 0.09559113494755107, 0.05746277839301095]\n",
      "4\n",
      "[0.9979342370745526, 0.09559113494755107, 0.05746277839301095, 0.2299771569144263]\n",
      "j -  2\n",
      "1\n",
      "[0.9974027660541523]\n",
      "2\n",
      "[0.9974027660541523, 0.12883508163104346]\n",
      "3\n",
      "[0.9974027660541523, 0.12883508163104346, 0.07924203273040482]\n",
      "4\n",
      "[0.9974027660541523, 0.12883508163104346, 0.07924203273040482, 0.26199261992619927]\n",
      "j -  3\n",
      "1\n",
      "[0.9986124037159684]\n",
      "2\n",
      "[0.9986124037159684, 0.09452638220679864]\n",
      "3\n",
      "[0.9986124037159684, 0.09452638220679864, 0.04876748287601001]\n",
      "4\n",
      "[0.9986124037159684, 0.09452638220679864, 0.04876748287601001, 0.17873835881215955]\n",
      "0.7713278238610761\n"
     ]
    }
   ],
   "source": [
    "kf = KFold(n_splits=10, random_state=57, shuffle=True)\n",
    "parameters = []\n",
    "for i in range(1,5):\n",
    "    print(i)\n",
    "    #for each category of attack, split the data into the required test and train sections\n",
    "    dftrain = df.loc[df['test'] != i]\n",
    "    score_1 = 0\n",
    "    parameters_1 = []\n",
    "    for split in kf.split(dftrain):\n",
    "        print(\"round\")\n",
    "        #on the training data, do a 10-fold \n",
    "        train = dftrain.iloc[split[0]]\n",
    "        test = dftrain.iloc[split[1]]\n",
    "        xtrain = scale(train.iloc[:,:-2])\n",
    "        xtest = scale(test.iloc[:,:-2])\n",
    "        ytrain = train.iloc[:,-2]\n",
    "        ytest = test.iloc[:,-2]\n",
    "        #fit one of the k-folds \n",
    "        model_1 = svm.SVC(cache_size = 1000)\n",
    "        instance = model_1.fit(xtrain,ytrain)\n",
    "        temp_score_1 = instance.score(xtest,ytest)\n",
    "        #if the new model works better than previous ones then save its parameters\n",
    "        if temp_score_1 > score_1:\n",
    "            score_1 = temp_score_1\n",
    "            parameters_1 = instance\n",
    "    #list of the best models from each of the 4 main training data sets\n",
    "    parameters.append(parameters_1)\n",
    "score = 0\n",
    "best_params = []\n",
    "#For each model test how it does in looking at new attacks\n",
    "for j in range(4):\n",
    "    print(\"j - \", j)\n",
    "    instance = parameters[j]  \n",
    "    scores = []\n",
    "    for i in range(1,5):\n",
    "        print(i)\n",
    "        x = scale(df.loc[df['test'] == i].iloc[:,:-2])\n",
    "        y = df.loc[df['test'] == i].iloc[:,-2]\n",
    "        scores.append(instance.score(x,y))\n",
    "        print(scores)\n",
    "    if mean(scores) > score:\n",
    "        score = mean(scores)\n",
    "        best_params = parameters[j]\n",
    "print(score)"
   ]
  },
  {
   "cell_type": "markdown",
   "id": "d25b8fc1",
   "metadata": {},
   "source": [
    "## Evaluation\n",
    "Now that we have trained the data, we need to see how effective the model is at predicting the different types of attacks. To do this we have decided on three different types of evaluation metrics:\n",
    "* Matthew's Correlation Coefficient (MCC)\n",
    "* Variation of Information (VI)\n",
    "* Precision-Recall curve \n",
    "\n",
    "#### Matthew's Correlation Coefficient (MCC)\n",
    "Matthew's Correlation Coefficient is a metric that allows you to compare binary classifiers. The MCC produces a value between -1 and 1. With values near -1, this indicates that the two clusterings almost always put a value in the opposite cluster. With values near 0, this indicates that there is almost no correlation between the two clusterings. With values near 1, this indicates that the two clusterings almost always put a value in the same cluster. Therefore, we are looking for values near 1, although values near -1 would also be very interesting but it would indicate that the model is categorising the normal traffic as malicious and vice versa. \n",
    "\n",
    "##### The Equation\n",
    "The MCC is caluclated using the following $MCC = \\frac{TP*TN-FP*FN}{\\sqrt{TP+FP)(TP+FN)(TN+FP)(TN+FN)}}$, where TP = True Positives, TN = True Negatives, FP = False Positives, FN = False Negatives. \n",
    "\n",
    "##### Advantages\n",
    "The MCC can be considered to have advantage over the various model evaluation metrics such as accuracy and F1 score as it considers each of the the 4 values in the confusion matrix, and as such provides more information in the produced value and ensuring that we understand the effectiveness of both the categorisation of positive and negative data and not just positive data. \n",
    "\n",
    "#### Variation of Information (VI)\n",
    "Variation of Information is a type of measure similar to mutual information. Mutual information is a notion of average uncertainty about which cluster a datapoint is located in in one clustering given what cluster the datapoint is in the other clustering. The VI of a clustering C and C' is a function that indicates how much 'information' is lost from C when moving to C' and how much information we still have to gain from C'. As such indicates how much overlap the clusters overlap between two clusterings.\n",
    "\n",
    "##### The Range\n",
    "The value produced by VI does not lie in a fixed range, rather it has a lower bound of $\\frac{2}{n}$ for C $\\neq$ C'. It has an upper bound of log(n) or if K $\\leq \\sqrt{n}$ then it is 2log(K). Where n is the number of data points and K is the number of clusters, so in this case K = 2. \n",
    "\n",
    "##### The Equation\n",
    "The VI is calculated using the following $VI(C,C') = H(C) + H(C') - 2I(C,C')$, where $H(C) = -\\sum_{i=1}^{k}P(i)\\log_{2}(P(i))$ and $I(C,C')=\\sum_{i=1}^{k} \\sum_{j=1}^{l}P(i,j)\\log_{2}(\\frac{P(i,j)}{P(i)P(j)})$ and $P(i,j) = \\frac{|C_{i} \\cap C'_{j}|}{n}$.\n",
    "\n",
    "##### Advantages\n",
    "Due to this being an information-theoretical measure it has does not seem to have the same drawbacks as other clustering comparison metrics such as those based on counting pairs and set overalps. Although this is less researched than such fields. \n",
    "\n",
    "#### Precision-Recall Curves\n",
    "Precision and recall curves are commonly used for evaluating binary classification algorithms. They use the metrics of $Precision = \\frac{TP}{TP+FP}$ and $Recall = \\frac{TP}{TP+FN}$. Both precision and recall are fairly primitive as it looks at little infromation from the confusion matrix, however this in combination with the MCC can provide insights into the effectiveness of correctly identifying malicious traffic. \n",
    "\n",
    "With the plot, would be looking for the line to pass near (1,1). Precision-recall curves are often compared with Reciever Operating Characteristic (ROC) curve, however we have used the former as PR curves are better for looking at imbalanced data. "
   ]
  },
  {
   "cell_type": "code",
   "execution_count": null,
   "id": "bc3848e1",
   "metadata": {},
   "outputs": [],
   "source": [
    "def variation_of_information_score(true_class, model_class):\n",
    "    return (stats.entropy(numpy.unique(true_class, return_counts=True)[1]) \n",
    "            + stats.entropy(numpy.unique(model_class, return_counts=True)[1]) \n",
    "            - 2*mutual_info_score(true_class, model_class))"
   ]
  },
  {
   "cell_type": "markdown",
   "id": "74ff9f74",
   "metadata": {},
   "source": [
    "### Test Class 1 (Denial of Service)"
   ]
  },
  {
   "cell_type": "code",
   "execution_count": 47,
   "id": "4eea2963",
   "metadata": {
    "scrolled": true
   },
   "outputs": [
    {
     "name": "stdout",
     "output_type": "stream",
     "text": [
      "<sklearn.metrics._plot.precision_recall_curve.PrecisionRecallDisplay object at 0x7fbbcb1b4ac0>\n",
      "MCC:  -0.06226086007225156\n",
      "Variation of Information:  0.4881098426710313\n"
     ]
    },
    {
     "data": {
      "image/png": "[encoded data removed]",
      "text/plain": [
       "<Figure size 432x288 with 1 Axes>"
      ]
     },
     "metadata": {
      "needs_background": "light"
     },
     "output_type": "display_data"
    }
   ],
   "source": [
    "test_1 = scale(df.loc[df['test'] == 1].iloc[:,:-2])\n",
    "true_class_1 = numpy.array(df[df[\"test\"] == 1].iloc[:, -2]) ^ True\n",
    "model_class_1 = best_params.predict(test_1) ^ True\n",
    "\n",
    "precision_1, recall_1, _ = precision_recall_curve(true_class_1, -best_params.decision_function(test_1))\n",
    "curve_1 = PrecisionRecallDisplay(precision=precision_1, recall=recall_1)\n",
    "mcc_1 = matthews_corrcoef(true_class_1, model_class_1)\n",
    "voi_1 = variation_of_information_score(true_class_1, model_class_1)\n",
    "\n",
    "print(curve_1.plot())\n",
    "print(\"MCC: \", mcc_1)\n",
    "print(\"Variation of Information: \", voi_1)"
   ]
  },
  {
   "cell_type": "markdown",
   "id": "55574683",
   "metadata": {},
   "source": [
    "#### Analysis\n",
    "Here we can see that the Matthew's Correlation Coefficient is very near 0, which means that the model is not effective, and that working out whether traffic is normal or not is just as effective as flipping a coin. On top of this, we have that the Variation of Information metric is fairly high. This indicates that there is very little overlap in the clusters between the predicted clustering and actual clustering. On top of this the precision-recall curve shows very poor form. Therefore, overall we can see that for the Denial of Service attacks, this model is very poor at predicting them. "
   ]
  },
  {
   "cell_type": "markdown",
   "id": "af3bf26c",
   "metadata": {},
   "source": [
    "### Test Class 2 (Remote to Local)"
   ]
  },
  {
   "cell_type": "code",
   "execution_count": 48,
   "id": "58c631cb",
   "metadata": {
    "scrolled": true
   },
   "outputs": [
    {
     "name": "stdout",
     "output_type": "stream",
     "text": [
      "<sklearn.metrics._plot.precision_recall_curve.PrecisionRecallDisplay object at 0x7fbbcb17cbb0>\n",
      "MCC:  0.7933329849020653\n",
      "Variation of Information:  0.1270781665024057\n"
     ]
    },
    {
     "data": {
      "image/png": "[encoded data removed]",
      "text/plain": [
       "<Figure size 432x288 with 1 Axes>"
      ]
     },
     "metadata": {
      "needs_background": "light"
     },
     "output_type": "display_data"
    }
   ],
   "source": [
    "test_2 = scale(df.loc[df['test'] == 2].iloc[:,:-2])\n",
    "true_class_2 = numpy.array(df[df[\"test\"] == 2].iloc[:, -2]) ^ True\n",
    "model_class_2 = best_params.predict(test_2) ^ True\n",
    "\n",
    "precision_2, recall_2, _ = precision_recall_curve(true_class_2, -best_params.decision_function(test_2))\n",
    "curve_2 = PrecisionRecallDisplay(precision=precision_2, recall=recall_2)\n",
    "mcc_2 = matthews_corrcoef(true_class_2, model_class_2)\n",
    "voi_2 = variation_of_information_score(true_class_2, model_class_2)\n",
    "\n",
    "print(curve_2.plot())\n",
    "print(\"MCC: \", mcc_2)\n",
    "print(\"Variation of Information: \", voi_2)"
   ]
  },
  {
   "cell_type": "markdown",
   "id": "f4d1e676",
   "metadata": {},
   "source": [
    "#### Analysis\n",
    "Here we can see the Mathew's Correlation Coefficient is good, which means that the model is good at predicting Remote to Local attacks. The Variation of Information is fairly good, which mean that much of the clusters overlap between the clusters. Finally, the precision-recall curve is resonably good. It shows us that the precision is good but recall is not great. With all of this, it shows that this model is not great at categorising the Remote to Local attacks correctly but what are categorised as attacks are very likely attacks."
   ]
  },
  {
   "cell_type": "markdown",
   "id": "631df0f8",
   "metadata": {},
   "source": [
    "### Test Class 3 (User to Root)"
   ]
  },
  {
   "cell_type": "code",
   "execution_count": 49,
   "id": "91925b3f",
   "metadata": {
    "scrolled": true
   },
   "outputs": [
    {
     "name": "stdout",
     "output_type": "stream",
     "text": [
      "<sklearn.metrics._plot.precision_recall_curve.PrecisionRecallDisplay object at 0x7fbbcb17ca30>\n",
      "MCC:  0.4239538301264504\n",
      "Variation of Information:  0.04513077199601291\n"
     ]
    },
    {
     "data": {
      "image/png": "[encoded data removed]",
      "text/plain": [
       "<Figure size 432x288 with 1 Axes>"
      ]
     },
     "metadata": {
      "needs_background": "light"
     },
     "output_type": "display_data"
    }
   ],
   "source": [
    "test_3 = scale(df.loc[df['test'] == 3].iloc[:,:-2])\n",
    "true_class_3 = numpy.array(df[df[\"test\"] == 3].iloc[:, -2]) ^ True\n",
    "model_class_3 = best_params.predict(test_3) ^ True\n",
    "\n",
    "precision_3, recall_3, _ = precision_recall_curve(true_class_3, -best_params.decision_function(test_3))\n",
    "curve_3 = PrecisionRecallDisplay(precision=precision_3, recall=recall_3)\n",
    "mcc_3 = matthews_corrcoef(true_class_3, model_class_3)\n",
    "voi_3 = variation_of_information_score(true_class_3, model_class_3)\n",
    "\n",
    "print(curve_3.plot())\n",
    "print(\"MCC: \", mcc_3)\n",
    "print(\"Variation of Information: \", voi_3)"
   ]
  },
  {
   "cell_type": "markdown",
   "id": "b344d78e",
   "metadata": {},
   "source": [
    "#### Analysis\n",
    "Here we have that the MCC is okay, but not good. The Precision Recall curve is not very good and shows precision being particularly bad and so provides lots of false positives. On top of this, we have that the variation of information is very low, which with the other metrics indicates that there are lots of boundary cases, i.e this model could be improved with some small alterations. This is slightly confusing as VI indicates a very good classification but both other metrics hgihlight a fairly poor performance. Therefore, this model is poor when flagging User to Root, however with some small changes could be improved greatly. "
   ]
  },
  {
   "cell_type": "markdown",
   "id": "6327d9ad",
   "metadata": {},
   "source": [
    "### Test Class 4 (Probing)"
   ]
  },
  {
   "cell_type": "code",
   "execution_count": 50,
   "id": "be2239df",
   "metadata": {},
   "outputs": [
    {
     "name": "stdout",
     "output_type": "stream",
     "text": [
      "<sklearn.metrics._plot.precision_recall_curve.PrecisionRecallDisplay object at 0x7fbbce2623d0>\n",
      "MCC:  0.9596321283494833\n",
      "Variation of Information:  0.10085076134423798\n"
     ]
    },
    {
     "data": {
      "image/png": "[encoded data removed]",
      "text/plain": [
       "<Figure size 432x288 with 1 Axes>"
      ]
     },
     "metadata": {
      "needs_background": "light"
     },
     "output_type": "display_data"
    }
   ],
   "source": [
    "test_4 = scale(df.loc[df['test'] == 4].iloc[:,:-2])\n",
    "true_class_4 = numpy.array(df[df[\"test\"] == 4].iloc[:, -2]) ^ True\n",
    "model_class_4 = best_params.predict(test_4) ^ True\n",
    "\n",
    "precision_4, recall_4, _ = precision_recall_curve(true_class_4, -best_params.decision_function(test_4))\n",
    "curve_4 = PrecisionRecallDisplay(precision=precision_4, recall=recall_4)\n",
    "mcc_4 = matthews_corrcoef(true_class_4, model_class_4)\n",
    "voi_4 = variation_of_information_score(true_class_4, model_class_4)\n",
    "\n",
    "print(curve_4.plot())\n",
    "print(\"MCC: \", mcc_4)\n",
    "print(\"Variation of Information: \", voi_4)"
   ]
  },
  {
   "cell_type": "markdown",
   "id": "54039948",
   "metadata": {},
   "source": [
    "#### Analysis\n",
    "Here the Matthew's Correlation Coefficient is very high, and that the precision-recall curve is very good. Therefore, we have that much of the traffic is correctly categorised. We also have that the Variation of information is fairly low, and so indicating a great overlap in the clusters between the clusterings. Therefore, this model is very effective at identifying probing attacks. "
   ]
  },
  {
   "cell_type": "markdown",
   "id": "7e4f7848",
   "metadata": {},
   "source": [
    "### Conclusion \n",
    "I am reasonably happy with the performance of this model, although it has very poor performance for DoS attacks, it does well with Remote Access attacks and very well with probing attacks. Also, I believe that with some small adjustments, it would be very effective for privilege escelation attacks but it does okay with them in their current state. "
   ]
  },
  {
   "cell_type": "markdown",
   "id": "11d1039d",
   "metadata": {},
   "source": [
    "Reference: \\\n",
    "[1] https://en.wikipedia.org/wiki/Matthews_correlation_coefficient \\\n",
    "[2] http://citeseerx.ist.psu.edu/viewdoc/download?doi=10.1.1.164.6189&rep=rep1&type=pdf \\\n",
    "[3] https://acutecaretesting.org/en/articles/precision-recall-curves-what-are-they-and-how-are-they-used \\\n",
    "[4] Learning with Support Vector Machines by Colin Campbell and Yiming Ying"
   ]
  },
  {
   "cell_type": "code",
   "execution_count": null,
   "id": "8d429865",
   "metadata": {},
   "outputs": [],
   "source": []
  }
 ],
 "metadata": {
  "kernelspec": {
   "display_name": "Python 3 (ipykernel)",
   "language": "python",
   "name": "python3"
  },
  "language_info": {
   "codemirror_mode": {
    "name": "ipython",
    "version": 3
   },
   "file_extension": ".py",
   "mimetype": "text/x-python",
   "name": "python",
   "nbconvert_exporter": "python",
   "pygments_lexer": "ipython3",
   "version": "3.8.10"
  }
 },
 "nbformat": 4,
 "nbformat_minor": 5
}
