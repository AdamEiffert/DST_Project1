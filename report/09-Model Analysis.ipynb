{
 "cells": [
  {
   "cell_type": "markdown",
   "id": "6febdbeb",
   "metadata": {},
   "source": [
    "# Comparison of models\n",
    "\n",
    "## Performance Metrics\n",
    "\n",
    "One type of performance metric that we researched was stability measures, which are used to work out how changes to the input data affect the selected model. Here, stability measures are not the most important here because we are looking for the best algorithm results given the data that we have. On top of this, due to there being likely lots of variation in the test data, stability is not as important as if there was little variation from the training data.\n",
    "\n",
    "We mainly focused on cluster validation, as it can provide a better understanding of the clustering space and how it compared to the true clustering of the test data. There are three types of cluster validation: \n",
    "* External cluster validation is important here as we have pre-defined labels (normal and non-normal traffic) and so will provide more information than internal cluster validation.\n",
    "\n",
    "* Internal cluser validation is not important here as we already know the clusters we need (normal and non-normal) and so we could gain more information external cluster validation.\n",
    "\n",
    "* Relative cluster validation is not important here as it is generally used for determining the optimal number of clusters, however we know we have 2. \n",
    "\n",
    "As such we only focused at external cluster validation from now for cluster validation. \n",
    "\n",
    "One of the main methods of external clustering is Rand's measure of similarity. This works by selecting a pair of datapoints and checking if they are both put into the same cluster in both clusterings. This also includes if they are both placed in 'cluster 1' in one clustering but in 'cluster 2' in another clustering. However, the index approaches the upperbound (1) as the number of clusters increases, which is undesirable. There are various similar measures such as the adjusted rand and Jaccard measures that are not affected by the number of clusters. However, the adjusted rand measure does not have a mean of 0 for non independent clusterings, which is not the case here. Also, the Jaccard measure does not look at the the case where two points are both placed in 'cluster 1' in one clustering but in 'cluster 2' in another clustering.\n",
    "\n",
    "The Silhouette plot uses the silhoutette coefficient to see how similar each object is to the other objects in it's cluster. If close to 1 then it is well grouped, if close to -1 then the item should very likely be in a different cluster. But is internal so less useful. \n",
    "\n",
    "Chi squared coefficient requires independence of 2 clusterings which is not the case.\n",
    "\n",
    "Fowlkes-Mallows Index makes strong assumptions on the distribution and for a small number of clusters the index shows higher value than it should.\n",
    "\n",
    "The following only look at overlaps and not any errors in the clusters between the clusterings .\n",
    "\n",
    "* F measure is assymetric which fine for when an optimal model is known, which we have as we have the 'true' clustering. \n",
    "\n",
    "* Melila-Heckerman measure compares the selected clustering with the optimal clustering. This can be generalised to the symmetric maximum-match-measure.\n",
    "\n",
    "* Van Dongen-Measure is a metric on the space of all clusterings of the same set, which make it easy to use. \n",
    "\n",
    "Mutual information measures don't seem to have the same downsides as above although there has been less research on this:\n",
    "\n",
    "* Normalised Mutual Inofrmation by Strehl & Ghosh and Fred & Jain are both simple and are bounded between 0 and 1 making it easy to interpret. \n",
    "\n",
    "* Variation of Information has been thoroughly researched when compared to normalised mutual information, although is more complex to interpret.   "
   ]
  },
  {
   "cell_type": "markdown",
   "id": "4ab4b434-eb00-4058-a0c1-03bc99410a56",
   "metadata": {},
   "source": [
    "## Our conclusion\n",
    "\n",
    "The performance of each model varied quite significantly across the four test classes. The Support Vector Machine gave extremely good results on exactly class 4, decent results on class 2 (the main issue was that getting high precision required that recall be quite mediocre), poor results on class 3 and totally useless results on class 1, while the Isolation Forest (and its Extended version) gave excellent results on class 1, good results on class 4 and mostly useless results on classes 2 and 3 (the extended version performed significantly better on these classes, but still not *well* by any means).\n",
    "\n",
    "This suggests that these two models can both be applied to this problem with good results in some situations, but neither of them is particularly suitable as a sole solution as they will miss certain types of attack. However, we have decided that we would put forward the isolation forest as it does very well on 2 attacks, despite being bad at detecting the other two.\n",
    "\n",
    "Due to implementation difficulties, we were unable to get any usable results out of Random Forests."
   ]
  },
  {
   "cell_type": "markdown",
   "id": "95078606",
   "metadata": {},
   "source": [
    "References: \\\n",
    "[1] http://citeseerx.ist.psu.edu/viewdoc/download?doi=10.1.1.164.6189&rep=rep1&type=pdf \\\n",
    "[2] https://en.wikipedia.org/wiki/Rand_index \\\n",
    "[3] CLUSTER ANALYSIS AND DATA MINING An Introduction by R.S. King \\\n",
    "[4] https://www.datanovia.com/en/lessons/choosing-the-best-clustering-algorithms/ \\\n",
    "[5] https://www.datanovia.com/en/lessons/cluster-validation-statistics-must-know-methods/ \\\n",
    "[6] https://stackoverflow.com/questions/20313870/difference-between-rand-and-jaccard-similarity-index"
   ]
  }
 ],
 "metadata": {
  "kernelspec": {
   "display_name": "Python 3 (ipykernel)",
   "language": "python",
   "name": "python3"
  },
  "language_info": {
   "codemirror_mode": {
    "name": "ipython",
    "version": 3
   },
   "file_extension": ".py",
   "mimetype": "text/x-python",
   "name": "python",
   "nbconvert_exporter": "python",
   "pygments_lexer": "ipython3",
   "version": "3.9.7"
  }
 },
 "nbformat": 4,
 "nbformat_minor": 5
}
