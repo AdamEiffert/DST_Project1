{
 "cells": [
  {
   "cell_type": "markdown",
   "id": "4ab4b434-eb00-4058-a0c1-03bc99410a56",
   "metadata": {},
   "source": [
    "# Comparison of models\n",
    "\n",
    "The performance of each model varied quite significantly across the four test classes. The Support Vector Machine gave extremely good results on exactly class 4, decent results on class 2 (the main issue was that getting high precision required that recall be quite mediocre), poor results on class 3 and totally useless results on class 1, while the Isolation Forest (and its Extended version) gave excellent results on class 1, good results on class 4 and mostly useless results on classes 2 and 3 (the extended version performed significantly better on these classes, but still not *well* by any means).\n",
    "\n",
    "This suggests that these two models can both be applied to this problem with good results in some situations, but neither of them is suitable as a sole solution as they will miss certain types of attack."
   ]
  },
  {
   "cell_type": "code",
   "execution_count": null,
   "id": "c86a2140-e13f-4998-b743-1779dc110c85",
   "metadata": {},
   "outputs": [],
   "source": []
  }
 ],
 "metadata": {
  "kernelspec": {
   "display_name": "Python 3 (ipykernel)",
   "language": "python",
   "name": "python3"
  },
  "language_info": {
   "codemirror_mode": {
    "name": "ipython",
    "version": 3
   },
   "file_extension": ".py",
   "mimetype": "text/x-python",
   "name": "python",
   "nbconvert_exporter": "python",
   "pygments_lexer": "ipython3",
   "version": "3.9.7"
  }
 },
 "nbformat": 4,
 "nbformat_minor": 5
}
