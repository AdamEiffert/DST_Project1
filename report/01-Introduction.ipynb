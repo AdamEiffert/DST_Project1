{
 "cells": [
  {
   "cell_type": "markdown",
   "id": "380fc952",
   "metadata": {},
   "source": [
    "## The brief\n",
    "\n",
    "The brief was to:\n",
    "\n",
    "* Decide on an optimal model for predicting whether new traffic is normal or non-normal\n",
    "* Decide on a performance metric that would be used to compare the chosen models\n",
    "* Evaluate our models according to our performance metric\n",
    "\n",
    "We first decided on how we would train and test the models using the given data. we then chose a model each to implement. We then did our own research on what preformance metrics would be best for this model selection and came together to evaluate each one. We then decided on our performance metric and tested the models accordingly. After which, we selected our optimal model.\n",
    "\n",
    "## The team\n",
    "The team consisted of Adam, Chentian and Oliver. Given our experiance, we decided to use Python for this project. Adam had experience with Git, R and Python, so took charge of setting up the Github repository.\n",
    "Chentian had used \n",
    "Oliver had prior experience with Python, but not with R. \n",
    "\n",
    "## Library requirements\n",
    "\n",
    "\n",
    "## The data\n",
    "\n",
    "We were given a specific dataset to evaluate and so this will need to be downloaded and processed.\n",
    "\n",
    "To obtain this dataset in a convenient format, we will download it and, if necessary, process it into a standard form.\n",
    "\n",
    "We place data in the raw or processed folder depending on the stage of processing, both of which are in the `data` folder of our root. So our file system will look like this:\n",
    "\n",
    "* /data\n",
    "  * /data/processed\n",
    "\n",
    "  * /data/raw\n",
    "    \n",
    "\n",
    "### Get the data\n"
   ]
  }
 ],
 "metadata": {
  "kernelspec": {
   "display_name": "Python 3 (ipykernel)",
   "language": "python",
   "name": "python3"
  },
  "language_info": {
   "codemirror_mode": {
    "name": "ipython",
    "version": 3
   },
   "file_extension": ".py",
   "mimetype": "text/x-python",
   "name": "python",
   "nbconvert_exporter": "python",
   "pygments_lexer": "ipython3",
   "version": "3.8.10"
  }
 },
 "nbformat": 4,
 "nbformat_minor": 5
}
