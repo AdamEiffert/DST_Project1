{
 "cells": [
  {
   "cell_type": "markdown",
   "id": "380fc952",
   "metadata": {},
   "source": [
    "## The brief\n",
    "\n",
    "The brief was to:\n",
    "\n",
    "* Decide on an optimal model for predicting whether new traffic is normal or non-normal\n",
    "* Decide on a performance metric that would be used to compare the chosen models\n",
    "* Evaluate our models according to our performance metric\n",
    "\n",
    "We first decided on how we would train and test the models using the given data. we then chose a model each to implement. We then did our own research on what preformance metrics would be best for this model selection and came together to evaluate each one. We then decided on our performance metric and tested the models accordingly. After which, we selected our optimal model.\n",
    "\n",
    "## The team\n",
    "The team consisted of Adam, Chentian and Oliver. Given our experiance, we decided to use Python for this project. Adam had experience with Git, R and Python, so took charge of setting up the Github repository.\n",
    "Chentian had used \n",
    "Oliver had prior experience with Python, but not with R. \n",
    "\n",
    "## Library requirements\n"
   ]
  },
  {
   "cell_type": "code",
   "execution_count": 1,
   "id": "4c8e3adb",
   "metadata": {},
   "outputs": [],
   "source": [
    "import sys\n",
    "import subprocess\n",
    "reqs = subprocess.check_output([sys.executable,'-m','pip','freeze'])\n",
    "installed_packages = [r.decode().split('==')[0] for r in reqs.split()]\n",
    "if not ('pandas' in installed_packages): \n",
    "    !{sys.executable} -m pip install pandas\n",
    "if not ('sklearn' in installed_packages): \n",
    "    !{sys.executable} -m pip install sklearn\n",
    "if not ('numpy' in installed_packages): \n",
    "    !{sys.executable} -m pip install numpy\n",
    "if not ('scipy' in installed_packages): \n",
    "    !{sys.executable} -m pip install scipy    "
   ]
  },
  {
   "cell_type": "code",
   "execution_count": 12,
   "id": "600ac39d",
   "metadata": {},
   "outputs": [],
   "source": [
    "import pandas as pd\n",
    "import urllib.request\n",
    "import os\n",
    "import csv"
   ]
  },
  {
   "cell_type": "markdown",
   "id": "9c0139db",
   "metadata": {},
   "source": [
    "## The data\n",
    "\n",
    "We were given a specific dataset to evaluate and so this will need to be downloaded and processed.\n",
    "\n",
    "To obtain this dataset in a convenient format, we will download it and, if necessary, process it into a standard form.\n",
    "\n",
    "We place data in the raw or processed folder depending on the stage of processing, both of which are in the `data` folder of our root. So our file system will look like this:\n",
    "\n",
    "* /data\n",
    "  * /data/raw\n",
    "      * /data/raw/kddcup.gz\n",
    "  * /data/processed\n",
    "      * /data/processed/kddcup.csv\n",
    "      * /data/processed/kddcup_split.csv\n",
    "      * /data/processed/test_train.csv\n",
    "\n",
    "### Get the data"
   ]
  },
  {
   "cell_type": "code",
   "execution_count": 16,
   "id": "3ec67cd0",
   "metadata": {},
   "outputs": [],
   "source": [
    "if not(exists('../data/raw')):\n",
    "    os.mkdir('../data/raw')\n",
    "if not(exists('../data/processed')):\n",
    "    os.mkdir('../data/processed')\n",
    "if not(exists('../data/raw/kddcup.gz')):\n",
    "    url = 'http://kdd.ics.uci.edu/databases/kddcup99/kddcup.data_10_percent.gz'\n",
    "    urllib.request.urlretrieve(url, '../data/raw/kddcup.gz')\n",
    "if not(exists('../data/processed/kddcup.csv')):\n",
    "    col = ['duration', 'protocol_type','service', 'flag', 'src_bytes', 'dst_bytes', 'land', 'wrong_fragment', 'urgent', 'hot', 'num_failed_logins', 'logged_in', 'num_compromised', 'root_shell', 'su_attempted', 'num_root', 'num_file_creations', 'num_shells', 'num_access_files', 'num_outbound_cmds', 'is_host_login', 'is_guest_login', 'count', 'srv_count', 'serror_rate', 'srv_serror_rate', 'rerror_rate', 'srv_rerror_rate', 'same_srv_rate', 'diff_srv_rate', 'srv_diff_host_rate','dst_host_count', 'dst_host_srv_count', 'dst_host_same_srv_rate', 'dst_host_diff_srv_rate', 'dst_host_same_src_port_rate','dst_host_srv_diff_host_rate','dst_host_serror_rate', 'dst_host_srv_serror_rate','dst_host_rerror_rate', 'dst_host_srv_rerror_rate', 'type']\n",
    "    data = pd.read_csv('../data/raw/kddcup.gz', names = col)\n",
    "    data.to_csv('../data/processed/kddcup.csv')"
   ]
  }
 ],
 "metadata": {
  "kernelspec": {
   "display_name": "Python 3 (ipykernel)",
   "language": "python",
   "name": "python3"
  },
  "language_info": {
   "codemirror_mode": {
    "name": "ipython",
    "version": 3
   },
   "file_extension": ".py",
   "mimetype": "text/x-python",
   "name": "python",
   "nbconvert_exporter": "python",
   "pygments_lexer": "ipython3",
   "version": "3.8.10"
  }
 },
 "nbformat": 4,
 "nbformat_minor": 5
}
