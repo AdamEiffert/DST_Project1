{
 "cells": [
  {
   "cell_type": "code",
   "execution_count": 1,
   "id": "eb76672b",
   "metadata": {},
   "outputs": [],
   "source": [
    "import pandas as pd"
   ]
  },
  {
   "cell_type": "code",
   "execution_count": 2,
   "id": "1957cd8b",
   "metadata": {
    "scrolled": false
   },
   "outputs": [],
   "source": [
    "df = pd.read_csv(\"../data/processed/kddcup_split.csv\").drop(columns = ['Unnamed: 0'])"
   ]
  },
  {
   "cell_type": "markdown",
   "id": "61701761",
   "metadata": {},
   "source": [
    "## Collation of attacks into the 4 main categories\n",
    "\n",
    "Now that we have split up the different attacks into categories, we will now combine these into the 4 main attack categories. To do this I will run through each of the attacks and work out which category each belongs to. Here we have the categories and the different attack types.\n",
    "\n",
    "* DoS - back, land, neptune, pod, smurf, teardrop\n",
    "* R2L - ftp_write, guess_passwd, imap, multihop, phf, spy, warezclient, warezmaster\n",
    "* U2R - buffer_overflow, loadmodule, perl, rootkit\n",
    "* Probing - nmap, ipsweep, portsweep, satan\n",
    "\n",
    "The way that we will implement this categorisation is by having a 'test' column that will specify in what iteration the data will be in the test dataset. We will also add a 'normal' column to signify that the data point is normal (or not). "
   ]
  },
  {
   "cell_type": "code",
   "execution_count": 3,
   "id": "89981f5a",
   "metadata": {},
   "outputs": [],
   "source": [
    "for i in range(df.shape[0]):\n",
    "    if (df.at[i,'type_is_back.'] == 1) or (df.at[i,'type_is_land.'] == 1) or (df.at[i,'type_is_neptune.'] == 1) or (df.at[i,'type_is_pod.'] == 1) or (df.at[i,'type_is_smurf.'] == 1) or (df.at[i,'type_is_teardrop.'] == 1):\n",
    "        df.at[i,'normal'] = False\n",
    "        df.at[i,'test'] = 1\n",
    "    elif (df.at[i,'type_is_ftp_write.'] == 1) or (df.at[i,'type_is_guess_passwd.'] == 1) or (df.at[i,'type_is_imap.'] == 1) or (df.at[i,'type_is_multihop.'] == 1) or (df.at[i,'type_is_phf.'] == 1) or (df.at[i,'type_is_spy.'] == 1) or (df.at[i,'type_is_warezclient.'] == 1) or (df.at[i,'type_is_warezmaster.'] == 1):\n",
    "        df.at[i,'normal'] = False\n",
    "        df.at[i,'test'] = 2\n",
    "    elif (df.at[i,'type_is_buffer_overflow.'] == 1) or (df.at[i,'type_is_loadmodule.'] == 1) or (df.at[i,'type_is_perl.'] == 1) or (df.at[i,'type_is_rootkit.'] == 1):\n",
    "        df.at[i,'normal'] = False\n",
    "        df.at[i,'test'] = 3\n",
    "    elif (df.at[i,'type_is_nmap.'] == 1) or (df.at[i,'type_is_ipsweep.'] == 1) or (df.at[i,'type_is_portsweep.'] == 1) or (df.at[i,'type_is_satan.'] == 1):\n",
    "        df.at[i,'normal'] = False\n",
    "        df.at[i,'test'] = 4\n",
    "    elif (df.at[i,'type_is_normal.'] == 1):\n",
    "        df.at[i,'normal'] = True\n",
    "        df.at[i,'test'] = 0"
   ]
  },
  {
   "cell_type": "markdown",
   "id": "4c2ef137",
   "metadata": {},
   "source": [
    "We will now remove the 'type_is_\\*' columns as we now that we have the 'test' and 'normal' columns."
   ]
  },
  {
   "cell_type": "code",
   "execution_count": 4,
   "id": "8a9cb567",
   "metadata": {},
   "outputs": [],
   "source": [
    "df.drop(df.iloc[:,122:145], axis=1, inplace = True)\n",
    "df.drop(columns = ['protocol_type', 'service', 'flag', 'type'], inplace = True)"
   ]
  },
  {
   "cell_type": "code",
   "execution_count": 5,
   "id": "964c4109",
   "metadata": {},
   "outputs": [],
   "source": [
    "df.to_csv('../data/processed/test_train.csv')"
   ]
  },
  {
   "cell_type": "code",
   "execution_count": null,
   "id": "92183b57",
   "metadata": {},
   "outputs": [],
   "source": []
  }
 ],
 "metadata": {
  "kernelspec": {
   "display_name": "Python 3 (ipykernel)",
   "language": "python",
   "name": "python3"
  },
  "language_info": {
   "codemirror_mode": {
    "name": "ipython",
    "version": 3
   },
   "file_extension": ".py",
   "mimetype": "text/x-python",
   "name": "python",
   "nbconvert_exporter": "python",
   "pygments_lexer": "ipython3",
   "version": "3.8.10"
  }
 },
 "nbformat": 4,
 "nbformat_minor": 5
}
