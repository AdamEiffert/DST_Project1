{
 "cells": [
  {
   "cell_type": "markdown",
   "id": "0037aad1",
   "metadata": {},
   "source": [
    "For each of the 5 main tests that we have (testing the categories of attack), we do a 10-fold on the training data to find a good model for each of the 5 main test/train datasets which are then used to test the main test data. "
   ]
  },
  {
   "cell_type": "code",
   "execution_count": null,
   "id": "d9e40843",
   "metadata": {},
   "outputs": [],
   "source": [
    "#Takes a couple of hours to run (see 06-Support Vector Machine)\n",
    "kf = KFold(n_splits=10, random_state=57, shuffle=True)\n",
    "parameters = []\n",
    "for i in range(1,5):\n",
    "    print(i)\n",
    "    #for each category of attack, split the data into the required test and train sections\n",
    "    dftrain = df.loc[df['test'] != i]\n",
    "    score_1 = 0\n",
    "    parameters_1 = []\n",
    "    for split in kf.split(dftrain):\n",
    "        print(\"round\")\n",
    "        #on the training data, do a 10-fold \n",
    "        train = dftrain.iloc[split[0]]\n",
    "        test = dftrain.iloc[split[1]]\n",
    "        xtrain = scale(train.iloc[:,:-2])\n",
    "        xtest = scale(test.iloc[:,:-2])\n",
    "        ytrain = train.iloc[:,-2]\n",
    "        ytest = test.iloc[:,-2]\n",
    "        #fit one of the k-folds \n",
    "        model_1 = #initiate model\n",
    "        instance = #fit model on training dataset\n",
    "        temp_score_1 = #get score of model on test dataset\n",
    "        #if the new model works better than previous ones then save its parameters\n",
    "        if temp_score_1 > score_1:\n",
    "            score_1 = temp_score_1\n",
    "            parameters_1 = instance\n",
    "    #list of the best models from each of the 4 main training data sets\n",
    "    parameters.append(parameters_1)\n",
    "score = 0\n",
    "best_params = []\n",
    "#For each model test how it does in looking at new attacks and normal data\n",
    "for j in range(4):\n",
    "    print(\"j - \", j)\n",
    "    instance = parameters[j]  \n",
    "    scores = []\n",
    "    for i in range(5):\n",
    "        print(i)\n",
    "        x = scale(df.loc[df['test'] == i].iloc[:,:-2])\n",
    "        y = df.loc[df['test'] == i].iloc[:,-2]\n",
    "        scores.append(instance.score(x,y))\n",
    "        print(scores)\n",
    "    if mean(scores) > score:\n",
    "        score = mean(scores)\n",
    "        best_params = parameters[j]\n",
    "print(score)"
   ]
  },
  {
   "cell_type": "markdown",
   "id": "fa50fffd",
   "metadata": {},
   "source": []
  }
 ],
 "metadata": {
  "kernelspec": {
   "display_name": "Python 3 (ipykernel)",
   "language": "python",
   "name": "python3"
  },
  "language_info": {
   "codemirror_mode": {
    "name": "ipython",
    "version": 3
   },
   "file_extension": ".py",
   "mimetype": "text/x-python",
   "name": "python",
   "nbconvert_exporter": "python",
   "pygments_lexer": "ipython3",
   "version": "3.8.10"
  }
 },
 "nbformat": 4,
 "nbformat_minor": 5
}
